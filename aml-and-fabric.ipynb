{
  "cells": [
    {
      "cell_type": "markdown",
      "metadata": {},
      "source": [
        "## AML and OneLake/ Fabric Better Together Demo:"
      ]
    },
    {
      "attachments": {
        "image.png": {
          "image/png": "[encoded data removed]"
        }
      },
      "cell_type": "markdown",
      "metadata": {},
      "source": [
        "You can use OneLake's capability to create shortcuts within a Lakehouse to read and write data stored in Azure Data Lake Gen2. Since Azure Machine Learning supports Azure Data Lake Gen2 storage, this setup allows you to use Fabric and Azure Machine Learning together. The data architecture is as follows:\n",
        "\n",
        "![image.png](attachment:image.png)"
      ]
    },
    {
      "cell_type": "markdown",
      "metadata": {},
      "source": [
        "https://learn.microsoft.com/en-us/azure/machine-learning/how-to-use-batch-fabric?view=azureml-api-2"
      ]
    },
    {
      "cell_type": "code",
      "execution_count": 3,
      "metadata": {},
      "outputs": [
        {
          "name": "stdout",
          "output_type": "stream",
          "text": [
            "Collecting azure-ai-ml\n",
            "  Downloading azure_ai_ml-1.14.0-py3-none-any.whl.metadata (27 kB)\n",
            "Collecting pyyaml<7.0.0,>=5.1.0 (from azure-ai-ml)\n",
            "  Downloading PyYAML-6.0.1-cp310-cp310-manylinux_2_17_x86_64.manylinux2014_x86_64.whl.metadata (2.1 kB)\n",
            "Collecting msrest>=0.6.18 (from azure-ai-ml)\n",
            "  Downloading msrest-0.7.1-py3-none-any.whl.metadata (21 kB)\n",
            "Collecting azure-core<2.0.0,>=1.23.0 (from azure-ai-ml)\n",
            "  Downloading azure_core-1.30.1-py3-none-any.whl.metadata (37 kB)\n",
            "Collecting azure-mgmt-core<2.0.0,>=1.3.0 (from azure-ai-ml)\n",
            "  Downloading azure_mgmt_core-1.4.0-py3-none-any.whl.metadata (4.1 kB)\n",
            "Collecting marshmallow<4.0.0,>=3.5 (from azure-ai-ml)\n",
            "  Downloading marshmallow-3.21.1-py3-none-any.whl.metadata (7.2 kB)\n",
            "Collecting jsonschema<5.0.0,>=4.0.0 (from azure-ai-ml)\n",
            "  Downloading jsonschema-4.21.1-py3-none-any.whl.metadata (7.8 kB)\n",
            "Collecting tqdm<5.0.0 (from azure-ai-ml)\n",
            "  Downloading tqdm-4.66.2-py3-none-any.whl.metadata (57 kB)\n",
            "\u001b[2K     \u001b[90m━━━━━━━━━━━━━━━━━━━━━━━━━━━━━━━━━━━━━━━━\u001b[0m \u001b[32m57.6/57.6 kB\u001b[0m \u001b[31m1.6 MB/s\u001b[0m eta \u001b[36m0:00:00\u001b[0m\n",
            "\u001b[?25hCollecting strictyaml<2.0.0 (from azure-ai-ml)\n",
            "  Downloading strictyaml-1.7.3-py3-none-any.whl.metadata (11 kB)\n",
            "Collecting colorama<0.5.0 (from azure-ai-ml)\n",
            "  Downloading colorama-0.4.6-py2.py3-none-any.whl.metadata (17 kB)\n",
            "Collecting pyjwt<3.0.0 (from azure-ai-ml)\n",
            "  Downloading PyJWT-2.8.0-py3-none-any.whl.metadata (4.2 kB)\n",
            "Collecting azure-storage-blob<13.0.0,>=12.10.0 (from azure-ai-ml)\n",
            "  Downloading azure_storage_blob-12.19.1-py3-none-any.whl.metadata (26 kB)\n",
            "Collecting azure-storage-file-share<13.0.0 (from azure-ai-ml)\n",
            "  Downloading azure_storage_file_share-12.15.0-py3-none-any.whl.metadata (45 kB)\n",
            "\u001b[2K     \u001b[90m━━━━━━━━━━━━━━━━━━━━━━━━━━━━━━━━━━━━━━━\u001b[0m \u001b[32m45.6/45.6 kB\u001b[0m \u001b[31m956.4 kB/s\u001b[0m eta \u001b[36m0:00:00\u001b[0ma \u001b[36m0:00:01\u001b[0m\n",
            "\u001b[?25hCollecting azure-storage-file-datalake<13.0.0 (from azure-ai-ml)\n",
            "  Downloading azure_storage_file_datalake-12.14.0-py3-none-any.whl.metadata (15 kB)\n",
            "Collecting pydash>=6.0.0 (from azure-ai-ml)\n",
            "  Downloading pydash-7.0.7-py3-none-any.whl.metadata (45 kB)\n",
            "\u001b[2K     \u001b[90m━━━━━━━━━━━━━━━━━━━━━━━━━━━━━━━━━━━━━━━\u001b[0m \u001b[32m45.8/45.8 kB\u001b[0m \u001b[31m994.3 kB/s\u001b[0m eta \u001b[36m0:00:00\u001b[0ma \u001b[36m0:00:01\u001b[0m\n",
            "\u001b[?25hCollecting isodate (from azure-ai-ml)\n",
            "  Downloading isodate-0.6.1-py2.py3-none-any.whl.metadata (9.6 kB)\n",
            "Collecting azure-common<2.0.0,>=1.1 (from azure-ai-ml)\n",
            "  Downloading azure_common-1.1.28-py2.py3-none-any.whl.metadata (5.0 kB)\n",
            "Collecting typing-extensions<5.0.0 (from azure-ai-ml)\n",
            "  Downloading typing_extensions-4.10.0-py3-none-any.whl.metadata (3.0 kB)\n",
            "Collecting opencensus-ext-azure<2.0.0 (from azure-ai-ml)\n",
            "  Downloading opencensus_ext_azure-1.1.13-py2.py3-none-any.whl.metadata (16 kB)\n",
            "Collecting opencensus-ext-logging<=0.1.1 (from azure-ai-ml)\n",
            "  Downloading opencensus_ext_logging-0.1.1-py2.py3-none-any.whl.metadata (2.3 kB)\n",
            "Collecting requests>=2.21.0 (from azure-core<2.0.0,>=1.23.0->azure-ai-ml)\n",
            "  Downloading requests-2.31.0-py3-none-any.whl.metadata (4.6 kB)\n",
            "Requirement already satisfied: six>=1.11.0 in /anaconda/envs/fabric/lib/python3.10/site-packages (from azure-core<2.0.0,>=1.23.0->azure-ai-ml) (1.16.0)\n",
            "Collecting cryptography>=2.1.4 (from azure-storage-blob<13.0.0,>=12.10.0->azure-ai-ml)\n",
            "  Downloading cryptography-42.0.5-cp39-abi3-manylinux_2_28_x86_64.whl.metadata (5.3 kB)\n",
            "Collecting attrs>=22.2.0 (from jsonschema<5.0.0,>=4.0.0->azure-ai-ml)\n",
            "  Downloading attrs-23.2.0-py3-none-any.whl.metadata (9.5 kB)\n",
            "Collecting jsonschema-specifications>=2023.03.6 (from jsonschema<5.0.0,>=4.0.0->azure-ai-ml)\n",
            "  Downloading jsonschema_specifications-2023.12.1-py3-none-any.whl.metadata (3.0 kB)\n",
            "Collecting referencing>=0.28.4 (from jsonschema<5.0.0,>=4.0.0->azure-ai-ml)\n",
            "  Downloading referencing-0.34.0-py3-none-any.whl.metadata (2.8 kB)\n",
            "Collecting rpds-py>=0.7.1 (from jsonschema<5.0.0,>=4.0.0->azure-ai-ml)\n",
            "  Downloading rpds_py-0.18.0-cp310-cp310-manylinux_2_17_x86_64.manylinux2014_x86_64.whl.metadata (4.1 kB)\n",
            "Requirement already satisfied: packaging>=17.0 in /anaconda/envs/fabric/lib/python3.10/site-packages (from marshmallow<4.0.0,>=3.5->azure-ai-ml) (23.2)\n",
            "Collecting certifi>=2017.4.17 (from msrest>=0.6.18->azure-ai-ml)\n",
            "  Downloading certifi-2024.2.2-py3-none-any.whl.metadata (2.2 kB)\n",
            "Collecting requests-oauthlib>=0.5.0 (from msrest>=0.6.18->azure-ai-ml)\n",
            "  Downloading requests_oauthlib-1.4.0-py2.py3-none-any.whl.metadata (11 kB)\n",
            "Collecting azure-identity<2.0.0,>=1.5.0 (from opencensus-ext-azure<2.0.0->azure-ai-ml)\n",
            "  Downloading azure_identity-1.15.0-py3-none-any.whl.metadata (75 kB)\n",
            "\u001b[2K     \u001b[90m━━━━━━━━━━━━━━━━━━━━━━━━━━━━━━━━━━━━━━━━\u001b[0m \u001b[32m75.4/75.4 kB\u001b[0m \u001b[31m1.9 MB/s\u001b[0m eta \u001b[36m0:00:00\u001b[0mta \u001b[36m0:00:01\u001b[0m\n",
            "\u001b[?25hCollecting opencensus<1.0.0,>=0.11.4 (from opencensus-ext-azure<2.0.0->azure-ai-ml)\n",
            "  Downloading opencensus-0.11.4-py2.py3-none-any.whl.metadata (12 kB)\n",
            "Requirement already satisfied: psutil>=5.6.3 in /anaconda/envs/fabric/lib/python3.10/site-packages (from opencensus-ext-azure<2.0.0->azure-ai-ml) (5.9.0)\n",
            "Requirement already satisfied: python-dateutil>=2.6.0 in /anaconda/envs/fabric/lib/python3.10/site-packages (from strictyaml<2.0.0->azure-ai-ml) (2.8.2)\n",
            "Collecting msal<2.0.0,>=1.24.0 (from azure-identity<2.0.0,>=1.5.0->opencensus-ext-azure<2.0.0->azure-ai-ml)\n",
            "  Downloading msal-1.28.0-py3-none-any.whl.metadata (11 kB)\n",
            "Collecting msal-extensions<2.0.0,>=0.3.0 (from azure-identity<2.0.0,>=1.5.0->opencensus-ext-azure<2.0.0->azure-ai-ml)\n",
            "  Downloading msal_extensions-1.1.0-py3-none-any.whl.metadata (7.7 kB)\n",
            "Collecting cffi>=1.12 (from cryptography>=2.1.4->azure-storage-blob<13.0.0,>=12.10.0->azure-ai-ml)\n",
            "  Downloading cffi-1.16.0-cp310-cp310-manylinux_2_17_x86_64.manylinux2014_x86_64.whl.metadata (1.5 kB)\n",
            "Collecting opencensus-context>=0.1.3 (from opencensus<1.0.0,>=0.11.4->opencensus-ext-azure<2.0.0->azure-ai-ml)\n",
            "  Downloading opencensus_context-0.1.3-py2.py3-none-any.whl.metadata (3.3 kB)\n",
            "Collecting google-api-core<3.0.0,>=1.0.0 (from opencensus<1.0.0,>=0.11.4->opencensus-ext-azure<2.0.0->azure-ai-ml)\n",
            "  Downloading google_api_core-2.18.0-py3-none-any.whl.metadata (2.7 kB)\n",
            "Collecting charset-normalizer<4,>=2 (from requests>=2.21.0->azure-core<2.0.0,>=1.23.0->azure-ai-ml)\n",
            "  Downloading charset_normalizer-3.3.2-cp310-cp310-manylinux_2_17_x86_64.manylinux2014_x86_64.whl.metadata (33 kB)\n",
            "Collecting idna<4,>=2.5 (from requests>=2.21.0->azure-core<2.0.0,>=1.23.0->azure-ai-ml)\n",
            "  Downloading idna-3.6-py3-none-any.whl.metadata (9.9 kB)\n",
            "Collecting urllib3<3,>=1.21.1 (from requests>=2.21.0->azure-core<2.0.0,>=1.23.0->azure-ai-ml)\n",
            "  Downloading urllib3-2.2.1-py3-none-any.whl.metadata (6.4 kB)\n",
            "Collecting oauthlib>=3.0.0 (from requests-oauthlib>=0.5.0->msrest>=0.6.18->azure-ai-ml)\n",
            "  Downloading oauthlib-3.2.2-py3-none-any.whl.metadata (7.5 kB)\n",
            "Collecting pycparser (from cffi>=1.12->cryptography>=2.1.4->azure-storage-blob<13.0.0,>=12.10.0->azure-ai-ml)\n",
            "  Downloading pycparser-2.21-py2.py3-none-any.whl.metadata (1.1 kB)\n",
            "Collecting googleapis-common-protos<2.0.dev0,>=1.56.2 (from google-api-core<3.0.0,>=1.0.0->opencensus<1.0.0,>=0.11.4->opencensus-ext-azure<2.0.0->azure-ai-ml)\n",
            "  Downloading googleapis_common_protos-1.63.0-py2.py3-none-any.whl.metadata (1.5 kB)\n",
            "Collecting protobuf!=3.20.0,!=3.20.1,!=4.21.0,!=4.21.1,!=4.21.2,!=4.21.3,!=4.21.4,!=4.21.5,<5.0.0.dev0,>=3.19.5 (from google-api-core<3.0.0,>=1.0.0->opencensus<1.0.0,>=0.11.4->opencensus-ext-azure<2.0.0->azure-ai-ml)\n",
            "  Downloading protobuf-4.25.3-cp37-abi3-manylinux2014_x86_64.whl.metadata (541 bytes)\n",
            "Collecting proto-plus<2.0.0dev,>=1.22.3 (from google-api-core<3.0.0,>=1.0.0->opencensus<1.0.0,>=0.11.4->opencensus-ext-azure<2.0.0->azure-ai-ml)\n",
            "  Downloading proto_plus-1.23.0-py3-none-any.whl.metadata (2.2 kB)\n",
            "Collecting google-auth<3.0.dev0,>=2.14.1 (from google-api-core<3.0.0,>=1.0.0->opencensus<1.0.0,>=0.11.4->opencensus-ext-azure<2.0.0->azure-ai-ml)\n",
            "  Downloading google_auth-2.29.0-py2.py3-none-any.whl.metadata (4.7 kB)\n",
            "Collecting portalocker<3,>=1.0 (from msal-extensions<2.0.0,>=0.3.0->azure-identity<2.0.0,>=1.5.0->opencensus-ext-azure<2.0.0->azure-ai-ml)\n",
            "  Downloading portalocker-2.8.2-py3-none-any.whl.metadata (8.5 kB)\n",
            "Collecting cachetools<6.0,>=2.0.0 (from google-auth<3.0.dev0,>=2.14.1->google-api-core<3.0.0,>=1.0.0->opencensus<1.0.0,>=0.11.4->opencensus-ext-azure<2.0.0->azure-ai-ml)\n",
            "  Downloading cachetools-5.3.3-py3-none-any.whl.metadata (5.3 kB)\n",
            "Collecting pyasn1-modules>=0.2.1 (from google-auth<3.0.dev0,>=2.14.1->google-api-core<3.0.0,>=1.0.0->opencensus<1.0.0,>=0.11.4->opencensus-ext-azure<2.0.0->azure-ai-ml)\n",
            "  Downloading pyasn1_modules-0.3.0-py2.py3-none-any.whl.metadata (3.6 kB)\n",
            "Collecting rsa<5,>=3.1.4 (from google-auth<3.0.dev0,>=2.14.1->google-api-core<3.0.0,>=1.0.0->opencensus<1.0.0,>=0.11.4->opencensus-ext-azure<2.0.0->azure-ai-ml)\n",
            "  Downloading rsa-4.9-py3-none-any.whl.metadata (4.2 kB)\n",
            "Collecting pyasn1<0.6.0,>=0.4.6 (from pyasn1-modules>=0.2.1->google-auth<3.0.dev0,>=2.14.1->google-api-core<3.0.0,>=1.0.0->opencensus<1.0.0,>=0.11.4->opencensus-ext-azure<2.0.0->azure-ai-ml)\n",
            "  Downloading pyasn1-0.5.1-py2.py3-none-any.whl.metadata (8.6 kB)\n",
            "Downloading azure_ai_ml-1.14.0-py3-none-any.whl (9.4 MB)\n",
            "\u001b[2K   \u001b[90m━━━━━━━━━━━━━━━━━━━━━━━━━━━━━━━━━━━━━━━━\u001b[0m \u001b[32m9.4/9.4 MB\u001b[0m \u001b[31m28.3 MB/s\u001b[0m eta \u001b[36m0:00:00\u001b[0m00:01\u001b[0m00:01\u001b[0m\n",
            "\u001b[?25hDownloading azure_common-1.1.28-py2.py3-none-any.whl (14 kB)\n",
            "Downloading azure_core-1.30.1-py3-none-any.whl (193 kB)\n",
            "\u001b[2K   \u001b[90m━━━━━━━━━━━━━━━━━━━━━━━━━━━━━━━━━━━━━━━━\u001b[0m \u001b[32m193.4/193.4 kB\u001b[0m \u001b[31m3.9 MB/s\u001b[0m eta \u001b[36m0:00:00\u001b[0mta \u001b[36m0:00:01\u001b[0m\n",
            "\u001b[?25hDownloading azure_mgmt_core-1.4.0-py3-none-any.whl (27 kB)\n",
            "Downloading azure_storage_blob-12.19.1-py3-none-any.whl (394 kB)\n",
            "\u001b[2K   \u001b[90m━━━━━━━━━━━━━━━━━━━━━━━━━━━━━━━━━━━━━━━━\u001b[0m \u001b[32m394.5/394.5 kB\u001b[0m \u001b[31m7.0 MB/s\u001b[0m eta \u001b[36m0:00:00\u001b[0m:00:01\u001b[0m\n",
            "\u001b[?25hDownloading azure_storage_file_datalake-12.14.0-py3-none-any.whl (251 kB)\n",
            "\u001b[2K   \u001b[90m━━━━━━━━━━━━━━━━━━━━━━━━━━━━━━━━━━━━━━━━\u001b[0m \u001b[32m251.0/251.0 kB\u001b[0m \u001b[31m7.2 MB/s\u001b[0m eta \u001b[36m0:00:00\u001b[0m:00:01\u001b[0m\n",
            "\u001b[?25hDownloading azure_storage_file_share-12.15.0-py3-none-any.whl (267 kB)\n",
            "\u001b[2K   \u001b[90m━━━━━━━━━━━━━━━━━━━━━━━━━━━━━━━━━━━━━━━━\u001b[0m \u001b[32m267.0/267.0 kB\u001b[0m \u001b[31m3.9 MB/s\u001b[0m eta \u001b[36m0:00:00\u001b[0m:00:01\u001b[0m\n",
            "\u001b[?25hDownloading colorama-0.4.6-py2.py3-none-any.whl (25 kB)\n",
            "Downloading isodate-0.6.1-py2.py3-none-any.whl (41 kB)\n",
            "\u001b[2K   \u001b[90m━━━━━━━━━━━━━━━━━━━━━━━━━━━━━━━━━━━━━━━━\u001b[0m \u001b[32m41.7/41.7 kB\u001b[0m \u001b[31m662.7 kB/s\u001b[0m eta \u001b[36m0:00:00\u001b[0m00:01\u001b[0m\n",
            "\u001b[?25hDownloading jsonschema-4.21.1-py3-none-any.whl (85 kB)\n",
            "\u001b[2K   \u001b[90m━━━━━━━━━━━━━━━━━━━━━━━━━━━━━━━━━━━━━━━━\u001b[0m \u001b[32m85.5/85.5 kB\u001b[0m \u001b[31m1.3 MB/s\u001b[0m eta \u001b[36m0:00:00\u001b[0meta \u001b[36m0:00:01\u001b[0m\n",
            "\u001b[?25hDownloading marshmallow-3.21.1-py3-none-any.whl (49 kB)\n",
            "\u001b[2K   \u001b[90m━━━━━━━━━━━━━━━━━━━━━━━━━━━━━━━━━━━━━━━━\u001b[0m \u001b[32m49.4/49.4 kB\u001b[0m \u001b[31m747.0 kB/s\u001b[0m eta \u001b[36m0:00:00\u001b[0m \u001b[36m0:00:01\u001b[0m\n",
            "\u001b[?25hDownloading msrest-0.7.1-py3-none-any.whl (85 kB)\n",
            "\u001b[2K   \u001b[90m━━━━━━━━━━━━━━━━━━━━━━━━━━━━━━━━━━━━━━━━\u001b[0m \u001b[32m85.4/85.4 kB\u001b[0m \u001b[31m2.3 MB/s\u001b[0m eta \u001b[36m0:00:00\u001b[0m\n",
            "\u001b[?25hDownloading opencensus_ext_azure-1.1.13-py2.py3-none-any.whl (43 kB)\n",
            "\u001b[2K   \u001b[90m━━━━━━━━━━━━━━━━━━━━━━━━━━━━━━━━━━━━━━━━\u001b[0m \u001b[32m43.4/43.4 kB\u001b[0m \u001b[31m412.9 kB/s\u001b[0m eta \u001b[36m0:00:00\u001b[0ma \u001b[36m0:00:01\u001b[0m\n",
            "\u001b[?25hDownloading opencensus_ext_logging-0.1.1-py2.py3-none-any.whl (4.0 kB)\n",
            "Downloading pydash-7.0.7-py3-none-any.whl (110 kB)\n",
            "\u001b[2K   \u001b[90m━━━━━━━━━━━━━━━━━━━━━━━━━━━━━━━━━━━━━━━━\u001b[0m \u001b[32m110.3/110.3 kB\u001b[0m \u001b[31m3.3 MB/s\u001b[0m eta \u001b[36m0:00:00\u001b[0m\n",
            "\u001b[?25hDownloading PyJWT-2.8.0-py3-none-any.whl (22 kB)\n",
            "Downloading PyYAML-6.0.1-cp310-cp310-manylinux_2_17_x86_64.manylinux2014_x86_64.whl (705 kB)\n",
            "\u001b[2K   \u001b[90m━━━━━━━━━━━━━━━━━━━━━━━━━━━━━━━━━━━━━━━━\u001b[0m \u001b[32m705.5/705.5 kB\u001b[0m \u001b[31m5.1 MB/s\u001b[0m eta \u001b[36m0:00:00\u001b[0m:00:01\u001b[0m\n",
            "\u001b[?25hDownloading strictyaml-1.7.3-py3-none-any.whl (123 kB)\n",
            "\u001b[2K   \u001b[90m━━━━━━━━━━━━━━━━━━━━━━━━━━━━━━━━━━━━━━━━\u001b[0m \u001b[32m123.9/123.9 kB\u001b[0m \u001b[31m1.8 MB/s\u001b[0m eta \u001b[36m0:00:00\u001b[0m:00:01\u001b[0m\n",
            "\u001b[?25hDownloading tqdm-4.66.2-py3-none-any.whl (78 kB)\n",
            "\u001b[2K   \u001b[90m━━━━━━━━━━━━━━━━━━━━━━━━━━━━━━━━━━━━━━━━\u001b[0m \u001b[32m78.3/78.3 kB\u001b[0m \u001b[31m2.9 MB/s\u001b[0m eta \u001b[36m0:00:00\u001b[0m\n",
            "\u001b[?25hDownloading typing_extensions-4.10.0-py3-none-any.whl (33 kB)\n",
            "Downloading attrs-23.2.0-py3-none-any.whl (60 kB)\n",
            "\u001b[2K   \u001b[90m━━━━━━━━━━━━━━━━━━━━━━━━━━━━━━━━━━━━━━━━\u001b[0m \u001b[32m60.8/60.8 kB\u001b[0m \u001b[31m1.9 MB/s\u001b[0m eta \u001b[36m0:00:00\u001b[0m\n",
            "\u001b[?25hDownloading azure_identity-1.15.0-py3-none-any.whl (164 kB)\n",
            "\u001b[2K   \u001b[90m━━━━━━━━━━━━━━━━━━━━━━━━━━━━━━━━━━━━━━━━\u001b[0m \u001b[32m164.7/164.7 kB\u001b[0m \u001b[31m4.8 MB/s\u001b[0m eta \u001b[36m0:00:00\u001b[0m\n",
            "\u001b[?25hDownloading certifi-2024.2.2-py3-none-any.whl (163 kB)\n",
            "\u001b[2K   \u001b[90m━━━━━━━━━━━━━━━━━━━━━━━━━━━━━━━━━━━━━━━━\u001b[0m \u001b[32m163.8/163.8 kB\u001b[0m \u001b[31m4.2 MB/s\u001b[0m eta \u001b[36m0:00:00\u001b[0mta \u001b[36m0:00:01\u001b[0m\n",
            "\u001b[?25hDownloading cryptography-42.0.5-cp39-abi3-manylinux_2_28_x86_64.whl (4.6 MB)\n",
            "\u001b[2K   \u001b[90m━━━━━━━━━━━━━━━━━━━━━━━━━━━━━━━━━━━━━━━━\u001b[0m \u001b[32m4.6/4.6 MB\u001b[0m \u001b[31m29.4 MB/s\u001b[0m eta \u001b[36m0:00:00\u001b[0m00:01\u001b[0m00:01\u001b[0m\n",
            "\u001b[?25hDownloading jsonschema_specifications-2023.12.1-py3-none-any.whl (18 kB)\n",
            "Downloading opencensus-0.11.4-py2.py3-none-any.whl (128 kB)\n",
            "\u001b[2K   \u001b[90m━━━━━━━━━━━━━━━━━━━━━━━━━━━━━━━━━━━━━━━━\u001b[0m \u001b[32m128.2/128.2 kB\u001b[0m \u001b[31m3.2 MB/s\u001b[0m eta \u001b[36m0:00:00\u001b[0mta \u001b[36m0:00:01\u001b[0m\n",
            "\u001b[?25hDownloading referencing-0.34.0-py3-none-any.whl (26 kB)\n",
            "Downloading requests-2.31.0-py3-none-any.whl (62 kB)\n",
            "\u001b[2K   \u001b[90m━━━━━━━━━━━━━━━━━━━━━━━━━━━━━━━━━━━━━━━━\u001b[0m \u001b[32m62.6/62.6 kB\u001b[0m \u001b[31m1.2 MB/s\u001b[0m eta \u001b[36m0:00:00\u001b[0m0:00:01\u001b[0m\n",
            "\u001b[?25hDownloading requests_oauthlib-1.4.0-py2.py3-none-any.whl (24 kB)\n",
            "Downloading rpds_py-0.18.0-cp310-cp310-manylinux_2_17_x86_64.manylinux2014_x86_64.whl (1.1 MB)\n",
            "\u001b[2K   \u001b[90m━━━━━━━━━━━━━━━━━━━━━━━━━━━━━━━━━━━━━━━━\u001b[0m \u001b[32m1.1/1.1 MB\u001b[0m \u001b[31m16.1 MB/s\u001b[0m eta \u001b[36m0:00:00\u001b[0m00:01\u001b[0m\n",
            "\u001b[?25hDownloading cffi-1.16.0-cp310-cp310-manylinux_2_17_x86_64.manylinux2014_x86_64.whl (443 kB)\n",
            "\u001b[2K   \u001b[90m━━━━━━━━━━━━━━━━━━━━━━━━━━━━━━━━━━━━━━━━\u001b[0m \u001b[32m443.9/443.9 kB\u001b[0m \u001b[31m10.0 MB/s\u001b[0m eta \u001b[36m0:00:00\u001b[0m00:01\u001b[0m\n",
            "\u001b[?25hDownloading charset_normalizer-3.3.2-cp310-cp310-manylinux_2_17_x86_64.manylinux2014_x86_64.whl (142 kB)\n",
            "\u001b[2K   \u001b[90m━━━━━━━━━━━━━━━━━━━━━━━━━━━━━━━━━━━━━━━━\u001b[0m \u001b[32m142.1/142.1 kB\u001b[0m \u001b[31m4.1 MB/s\u001b[0m eta \u001b[36m0:00:00\u001b[0m\n",
            "\u001b[?25hDownloading google_api_core-2.18.0-py3-none-any.whl (138 kB)\n",
            "\u001b[2K   \u001b[90m━━━━━━━━━━━━━━━━━━━━━━━━━━━━━━━━━━━━━━━━\u001b[0m \u001b[32m138.3/138.3 kB\u001b[0m \u001b[31m2.6 MB/s\u001b[0m eta \u001b[36m0:00:00\u001b[0mta \u001b[36m0:00:01\u001b[0m\n",
            "\u001b[?25hDownloading idna-3.6-py3-none-any.whl (61 kB)\n",
            "\u001b[2K   \u001b[90m━━━━━━━━━━━━━━━━━━━━━━━━━━━━━━━━━━━━━━━━\u001b[0m \u001b[32m61.6/61.6 kB\u001b[0m \u001b[31m2.0 MB/s\u001b[0m eta \u001b[36m0:00:00\u001b[0m\n",
            "\u001b[?25hDownloading msal-1.28.0-py3-none-any.whl (102 kB)\n",
            "\u001b[2K   \u001b[90m━━━━━━━━━━━━━━━━━━━━━━━━━━━━━━━━━━━━━━━━\u001b[0m \u001b[32m102.2/102.2 kB\u001b[0m \u001b[31m2.9 MB/s\u001b[0m eta \u001b[36m0:00:00\u001b[0m\n",
            "\u001b[?25hDownloading msal_extensions-1.1.0-py3-none-any.whl (19 kB)\n",
            "Downloading oauthlib-3.2.2-py3-none-any.whl (151 kB)\n",
            "\u001b[2K   \u001b[90m━━━━━━━━━━━━━━━━━━━━━━━━━━━━━━━━━━━━━━━━\u001b[0m \u001b[32m151.7/151.7 kB\u001b[0m \u001b[31m2.3 MB/s\u001b[0m eta \u001b[36m0:00:00\u001b[0mta \u001b[36m0:00:01\u001b[0m\n",
            "\u001b[?25hDownloading opencensus_context-0.1.3-py2.py3-none-any.whl (5.1 kB)\n",
            "Downloading urllib3-2.2.1-py3-none-any.whl (121 kB)\n",
            "\u001b[2K   \u001b[90m━━━━━━━━━━━━━━━━━━━━━━━━━━━━━━━━━━━━━━━━\u001b[0m \u001b[32m121.1/121.1 kB\u001b[0m \u001b[31m4.0 MB/s\u001b[0m eta \u001b[36m0:00:00\u001b[0m\n",
            "\u001b[?25hDownloading google_auth-2.29.0-py2.py3-none-any.whl (189 kB)\n",
            "\u001b[2K   \u001b[90m━━━━━━━━━━━━━━━━━━━━━━━━━━━━━━━━━━━━━━━━\u001b[0m \u001b[32m189.2/189.2 kB\u001b[0m \u001b[31m4.0 MB/s\u001b[0m eta \u001b[36m0:00:00\u001b[0mta \u001b[36m0:00:01\u001b[0m\n",
            "\u001b[?25hDownloading googleapis_common_protos-1.63.0-py2.py3-none-any.whl (229 kB)\n",
            "\u001b[2K   \u001b[90m━━━━━━━━━━━━━━━━━━━━━━━━━━━━━━━━━━━━━━━━\u001b[0m \u001b[32m229.1/229.1 kB\u001b[0m \u001b[31m6.1 MB/s\u001b[0m eta \u001b[36m0:00:00\u001b[0m:00:01\u001b[0m\n",
            "\u001b[?25hDownloading portalocker-2.8.2-py3-none-any.whl (17 kB)\n",
            "Downloading proto_plus-1.23.0-py3-none-any.whl (48 kB)\n",
            "\u001b[2K   \u001b[90m━━━━━━━━━━━━━━━━━━━━━━━━━━━━━━━━━━━━━━━━\u001b[0m \u001b[32m48.8/48.8 kB\u001b[0m \u001b[31m1.3 MB/s\u001b[0m eta \u001b[36m0:00:00\u001b[0m\n",
            "\u001b[?25hDownloading protobuf-4.25.3-cp37-abi3-manylinux2014_x86_64.whl (294 kB)\n",
            "\u001b[2K   \u001b[90m━━━━━━━━━━━━━━━━━━━━━━━━━━━━━━━━━━━━━━━━\u001b[0m \u001b[32m294.6/294.6 kB\u001b[0m \u001b[31m5.2 MB/s\u001b[0m eta \u001b[36m0:00:00\u001b[0mta \u001b[36m0:00:01\u001b[0m\n",
            "\u001b[?25hDownloading pycparser-2.21-py2.py3-none-any.whl (118 kB)\n",
            "\u001b[2K   \u001b[90m━━━━━━━━━━━━━━━━━━━━━━━━━━━━━━━━━━━━━━━━\u001b[0m \u001b[32m118.7/118.7 kB\u001b[0m \u001b[31m2.7 MB/s\u001b[0m eta \u001b[36m0:00:00\u001b[0mta \u001b[36m0:00:01\u001b[0m\n",
            "\u001b[?25hDownloading cachetools-5.3.3-py3-none-any.whl (9.3 kB)\n",
            "Downloading pyasn1_modules-0.3.0-py2.py3-none-any.whl (181 kB)\n",
            "\u001b[2K   \u001b[90m━━━━━━━━━━━━━━━━━━━━━━━━━━━━━━━━━━━━━━━━\u001b[0m \u001b[32m181.3/181.3 kB\u001b[0m \u001b[31m4.8 MB/s\u001b[0m eta \u001b[36m0:00:00\u001b[0mta \u001b[36m0:00:01\u001b[0m\n",
            "\u001b[?25hDownloading rsa-4.9-py3-none-any.whl (34 kB)\n",
            "Downloading pyasn1-0.5.1-py2.py3-none-any.whl (84 kB)\n",
            "\u001b[2K   \u001b[90m━━━━━━━━━━━━━━━━━━━━━━━━━━━━━━━━━━━━━━━━\u001b[0m \u001b[32m84.9/84.9 kB\u001b[0m \u001b[31m2.1 MB/s\u001b[0m eta \u001b[36m0:00:00\u001b[0meta \u001b[36m0:00:01\u001b[0m\n",
            "\u001b[?25hInstalling collected packages: opencensus-context, azure-common, urllib3, typing-extensions, tqdm, rpds-py, pyyaml, pyjwt, pycparser, pyasn1, protobuf, portalocker, oauthlib, marshmallow, isodate, idna, colorama, charset-normalizer, certifi, cachetools, attrs, strictyaml, rsa, requests, referencing, pydash, pyasn1-modules, proto-plus, googleapis-common-protos, cffi, requests-oauthlib, jsonschema-specifications, google-auth, cryptography, azure-core, msrest, jsonschema, google-api-core, azure-storage-file-share, azure-storage-blob, azure-mgmt-core, opencensus, msal, azure-storage-file-datalake, opencensus-ext-logging, msal-extensions, azure-identity, opencensus-ext-azure, azure-ai-ml\n",
            "Successfully installed attrs-23.2.0 azure-ai-ml-1.14.0 azure-common-1.1.28 azure-core-1.30.1 azure-identity-1.15.0 azure-mgmt-core-1.4.0 azure-storage-blob-12.19.1 azure-storage-file-datalake-12.14.0 azure-storage-file-share-12.15.0 cachetools-5.3.3 certifi-2024.2.2 cffi-1.16.0 charset-normalizer-3.3.2 colorama-0.4.6 cryptography-42.0.5 google-api-core-2.18.0 google-auth-2.29.0 googleapis-common-protos-1.63.0 idna-3.6 isodate-0.6.1 jsonschema-4.21.1 jsonschema-specifications-2023.12.1 marshmallow-3.21.1 msal-1.28.0 msal-extensions-1.1.0 msrest-0.7.1 oauthlib-3.2.2 opencensus-0.11.4 opencensus-context-0.1.3 opencensus-ext-azure-1.1.13 opencensus-ext-logging-0.1.1 portalocker-2.8.2 proto-plus-1.23.0 protobuf-4.25.3 pyasn1-0.5.1 pyasn1-modules-0.3.0 pycparser-2.21 pydash-7.0.7 pyjwt-2.8.0 pyyaml-6.0.1 referencing-0.34.0 requests-2.31.0 requests-oauthlib-1.4.0 rpds-py-0.18.0 rsa-4.9 strictyaml-1.7.3 tqdm-4.66.2 typing-extensions-4.10.0 urllib3-2.2.1\n",
            "Note: you may need to restart the kernel to use updated packages.\n",
            "Requirement already satisfied: azure-identity in /anaconda/envs/fabric/lib/python3.10/site-packages (1.15.0)\n",
            "Requirement already satisfied: azure-core<2.0.0,>=1.23.0 in /anaconda/envs/fabric/lib/python3.10/site-packages (from azure-identity) (1.30.1)\n",
            "Requirement already satisfied: cryptography>=2.5 in /anaconda/envs/fabric/lib/python3.10/site-packages (from azure-identity) (42.0.5)\n",
            "Requirement already satisfied: msal<2.0.0,>=1.24.0 in /anaconda/envs/fabric/lib/python3.10/site-packages (from azure-identity) (1.28.0)\n",
            "Requirement already satisfied: msal-extensions<2.0.0,>=0.3.0 in /anaconda/envs/fabric/lib/python3.10/site-packages (from azure-identity) (1.1.0)\n",
            "Requirement already satisfied: requests>=2.21.0 in /anaconda/envs/fabric/lib/python3.10/site-packages (from azure-core<2.0.0,>=1.23.0->azure-identity) (2.31.0)\n",
            "Requirement already satisfied: six>=1.11.0 in /anaconda/envs/fabric/lib/python3.10/site-packages (from azure-core<2.0.0,>=1.23.0->azure-identity) (1.16.0)\n",
            "Requirement already satisfied: typing-extensions>=4.6.0 in /anaconda/envs/fabric/lib/python3.10/site-packages (from azure-core<2.0.0,>=1.23.0->azure-identity) (4.10.0)\n",
            "Requirement already satisfied: cffi>=1.12 in /anaconda/envs/fabric/lib/python3.10/site-packages (from cryptography>=2.5->azure-identity) (1.16.0)\n",
            "Requirement already satisfied: PyJWT<3,>=1.0.0 in /anaconda/envs/fabric/lib/python3.10/site-packages (from PyJWT[crypto]<3,>=1.0.0->msal<2.0.0,>=1.24.0->azure-identity) (2.8.0)\n",
            "Requirement already satisfied: packaging in /anaconda/envs/fabric/lib/python3.10/site-packages (from msal-extensions<2.0.0,>=0.3.0->azure-identity) (23.2)\n",
            "Requirement already satisfied: portalocker<3,>=1.0 in /anaconda/envs/fabric/lib/python3.10/site-packages (from msal-extensions<2.0.0,>=0.3.0->azure-identity) (2.8.2)\n",
            "Requirement already satisfied: pycparser in /anaconda/envs/fabric/lib/python3.10/site-packages (from cffi>=1.12->cryptography>=2.5->azure-identity) (2.21)\n",
            "Requirement already satisfied: charset-normalizer<4,>=2 in /anaconda/envs/fabric/lib/python3.10/site-packages (from requests>=2.21.0->azure-core<2.0.0,>=1.23.0->azure-identity) (3.3.2)\n",
            "Requirement already satisfied: idna<4,>=2.5 in /anaconda/envs/fabric/lib/python3.10/site-packages (from requests>=2.21.0->azure-core<2.0.0,>=1.23.0->azure-identity) (3.6)\n",
            "Requirement already satisfied: urllib3<3,>=1.21.1 in /anaconda/envs/fabric/lib/python3.10/site-packages (from requests>=2.21.0->azure-core<2.0.0,>=1.23.0->azure-identity) (2.2.1)\n",
            "Requirement already satisfied: certifi>=2017.4.17 in /anaconda/envs/fabric/lib/python3.10/site-packages (from requests>=2.21.0->azure-core<2.0.0,>=1.23.0->azure-identity) (2024.2.2)\n",
            "Note: you may need to restart the kernel to use updated packages.\n",
            "Collecting mltable\n",
            "  Downloading mltable-1.6.1-py3-none-any.whl.metadata (4.8 kB)\n",
            "Collecting azureml-dataprep[pandas]\n",
            "  Downloading azureml_dataprep-5.1.6-py3-none-any.whl.metadata (2.2 kB)\n",
            "Requirement already satisfied: pyyaml<7.0.0,>=5.1.0 in /anaconda/envs/fabric/lib/python3.10/site-packages (from mltable) (6.0.1)\n",
            "Requirement already satisfied: jsonschema<5.0.0,>=4.0.0 in /anaconda/envs/fabric/lib/python3.10/site-packages (from mltable) (4.21.1)\n",
            "Requirement already satisfied: msrest>=0.6.18 in /anaconda/envs/fabric/lib/python3.10/site-packages (from mltable) (0.7.1)\n",
            "Requirement already satisfied: azure-core!=1.22.0,<2.0.0,>=1.8.0 in /anaconda/envs/fabric/lib/python3.10/site-packages (from mltable) (1.30.1)\n",
            "Requirement already satisfied: azure-mgmt-core<2.0.0,>=1.3.0 in /anaconda/envs/fabric/lib/python3.10/site-packages (from mltable) (1.4.0)\n",
            "Requirement already satisfied: python-dateutil<3.0.0,>=2.7.3 in /anaconda/envs/fabric/lib/python3.10/site-packages (from mltable) (2.8.2)\n",
            "Requirement already satisfied: cryptography!=1.9,!=2.0.*,!=2.1.*,!=2.2.* in /anaconda/envs/fabric/lib/python3.10/site-packages (from mltable) (42.0.5)\n",
            "Requirement already satisfied: PyJWT<3.0.0 in /anaconda/envs/fabric/lib/python3.10/site-packages (from mltable) (2.8.0)\n",
            "Collecting pytz (from mltable)\n",
            "  Downloading pytz-2024.1-py2.py3-none-any.whl.metadata (22 kB)\n",
            "Collecting azureml-dataprep-native<42.0.0,>=41.0.0 (from azureml-dataprep[pandas])\n",
            "  Downloading azureml_dataprep_native-41.0.0-cp310-cp310-manylinux1_x86_64.whl.metadata (1.3 kB)\n",
            "Collecting azureml-dataprep-rslex~=2.22.2dev0 (from azureml-dataprep[pandas])\n",
            "  Downloading azureml_dataprep_rslex-2.22.2-cp310-cp310-manylinux_2_17_x86_64.manylinux2014_x86_64.whl.metadata (1.6 kB)\n",
            "Collecting cloudpickle<3.0.0,>=1.1.0 (from azureml-dataprep[pandas])\n",
            "  Downloading cloudpickle-2.2.1-py3-none-any.whl.metadata (6.9 kB)\n",
            "Requirement already satisfied: azure-identity>=1.7.0 in /anaconda/envs/fabric/lib/python3.10/site-packages (from azureml-dataprep[pandas]) (1.15.0)\n",
            "Collecting numpy>=1.14.0 (from azureml-dataprep[pandas])\n",
            "  Downloading numpy-1.26.4-cp310-cp310-manylinux_2_17_x86_64.manylinux2014_x86_64.whl.metadata (61 kB)\n",
            "\u001b[2K     \u001b[90m━━━━━━━━━━━━━━━━━━━━━━━━━━━━━━━━━━━━━━━━\u001b[0m \u001b[32m61.0/61.0 kB\u001b[0m \u001b[31m1.6 MB/s\u001b[0m eta \u001b[36m0:00:00\u001b[0m\n",
            "\u001b[?25hCollecting pandas>=0.23.4 (from azureml-dataprep[pandas])\n",
            "  Downloading pandas-2.2.1-cp310-cp310-manylinux_2_17_x86_64.manylinux2014_x86_64.whl.metadata (19 kB)\n",
            "Collecting pyarrow>=0.17.0 (from azureml-dataprep[pandas])\n",
            "  Downloading pyarrow-15.0.2-cp310-cp310-manylinux_2_28_x86_64.whl.metadata (3.0 kB)\n",
            "Requirement already satisfied: requests>=2.21.0 in /anaconda/envs/fabric/lib/python3.10/site-packages (from azure-core!=1.22.0,<2.0.0,>=1.8.0->mltable) (2.31.0)\n",
            "Requirement already satisfied: six>=1.11.0 in /anaconda/envs/fabric/lib/python3.10/site-packages (from azure-core!=1.22.0,<2.0.0,>=1.8.0->mltable) (1.16.0)\n",
            "Requirement already satisfied: typing-extensions>=4.6.0 in /anaconda/envs/fabric/lib/python3.10/site-packages (from azure-core!=1.22.0,<2.0.0,>=1.8.0->mltable) (4.10.0)\n",
            "Requirement already satisfied: msal<2.0.0,>=1.24.0 in /anaconda/envs/fabric/lib/python3.10/site-packages (from azure-identity>=1.7.0->azureml-dataprep[pandas]) (1.28.0)\n",
            "Requirement already satisfied: msal-extensions<2.0.0,>=0.3.0 in /anaconda/envs/fabric/lib/python3.10/site-packages (from azure-identity>=1.7.0->azureml-dataprep[pandas]) (1.1.0)\n",
            "Requirement already satisfied: cffi>=1.12 in /anaconda/envs/fabric/lib/python3.10/site-packages (from cryptography!=1.9,!=2.0.*,!=2.1.*,!=2.2.*->mltable) (1.16.0)\n",
            "Requirement already satisfied: attrs>=22.2.0 in /anaconda/envs/fabric/lib/python3.10/site-packages (from jsonschema<5.0.0,>=4.0.0->mltable) (23.2.0)\n",
            "Requirement already satisfied: jsonschema-specifications>=2023.03.6 in /anaconda/envs/fabric/lib/python3.10/site-packages (from jsonschema<5.0.0,>=4.0.0->mltable) (2023.12.1)\n",
            "Requirement already satisfied: referencing>=0.28.4 in /anaconda/envs/fabric/lib/python3.10/site-packages (from jsonschema<5.0.0,>=4.0.0->mltable) (0.34.0)\n",
            "Requirement already satisfied: rpds-py>=0.7.1 in /anaconda/envs/fabric/lib/python3.10/site-packages (from jsonschema<5.0.0,>=4.0.0->mltable) (0.18.0)\n",
            "Requirement already satisfied: certifi>=2017.4.17 in /anaconda/envs/fabric/lib/python3.10/site-packages (from msrest>=0.6.18->mltable) (2024.2.2)\n",
            "Requirement already satisfied: isodate>=0.6.0 in /anaconda/envs/fabric/lib/python3.10/site-packages (from msrest>=0.6.18->mltable) (0.6.1)\n",
            "Requirement already satisfied: requests-oauthlib>=0.5.0 in /anaconda/envs/fabric/lib/python3.10/site-packages (from msrest>=0.6.18->mltable) (1.4.0)\n",
            "Collecting tzdata>=2022.7 (from pandas>=0.23.4->azureml-dataprep[pandas])\n",
            "  Downloading tzdata-2024.1-py2.py3-none-any.whl.metadata (1.4 kB)\n",
            "Requirement already satisfied: pycparser in /anaconda/envs/fabric/lib/python3.10/site-packages (from cffi>=1.12->cryptography!=1.9,!=2.0.*,!=2.1.*,!=2.2.*->mltable) (2.21)\n",
            "Requirement already satisfied: packaging in /anaconda/envs/fabric/lib/python3.10/site-packages (from msal-extensions<2.0.0,>=0.3.0->azure-identity>=1.7.0->azureml-dataprep[pandas]) (23.2)\n",
            "Requirement already satisfied: portalocker<3,>=1.0 in /anaconda/envs/fabric/lib/python3.10/site-packages (from msal-extensions<2.0.0,>=0.3.0->azure-identity>=1.7.0->azureml-dataprep[pandas]) (2.8.2)\n",
            "Requirement already satisfied: charset-normalizer<4,>=2 in /anaconda/envs/fabric/lib/python3.10/site-packages (from requests>=2.21.0->azure-core!=1.22.0,<2.0.0,>=1.8.0->mltable) (3.3.2)\n",
            "Requirement already satisfied: idna<4,>=2.5 in /anaconda/envs/fabric/lib/python3.10/site-packages (from requests>=2.21.0->azure-core!=1.22.0,<2.0.0,>=1.8.0->mltable) (3.6)\n",
            "Requirement already satisfied: urllib3<3,>=1.21.1 in /anaconda/envs/fabric/lib/python3.10/site-packages (from requests>=2.21.0->azure-core!=1.22.0,<2.0.0,>=1.8.0->mltable) (2.2.1)\n",
            "Requirement already satisfied: oauthlib>=3.0.0 in /anaconda/envs/fabric/lib/python3.10/site-packages (from requests-oauthlib>=0.5.0->msrest>=0.6.18->mltable) (3.2.2)\n",
            "Downloading mltable-1.6.1-py3-none-any.whl (189 kB)\n",
            "\u001b[2K   \u001b[90m━━━━━━━━━━━━━━━━━━━━━━━━━━━━━━━━━━━━━━━━\u001b[0m \u001b[32m189.4/189.4 kB\u001b[0m \u001b[31m4.9 MB/s\u001b[0m eta \u001b[36m0:00:00\u001b[0mta \u001b[36m0:00:01\u001b[0m\n",
            "\u001b[?25hDownloading azureml_dataprep-5.1.6-py3-none-any.whl (252 kB)\n",
            "\u001b[2K   \u001b[90m━━━━━━━━━━━━━━━━━━━━━━━━━━━━━━━━━━━━━━━━\u001b[0m \u001b[32m252.4/252.4 kB\u001b[0m \u001b[31m2.9 MB/s\u001b[0m eta \u001b[36m0:00:00\u001b[0mta \u001b[36m0:00:01\u001b[0m\n",
            "\u001b[?25hDownloading azureml_dataprep_native-41.0.0-cp310-cp310-manylinux1_x86_64.whl (187 kB)\n",
            "\u001b[2K   \u001b[90m━━━━━━━━━━━━━━━━━━━━━━━━━━━━━━━━━━━━━━━━\u001b[0m \u001b[32m187.7/187.7 kB\u001b[0m \u001b[31m4.9 MB/s\u001b[0m eta \u001b[36m0:00:00\u001b[0m:00:01\u001b[0m\n",
            "\u001b[?25hDownloading azureml_dataprep_rslex-2.22.2-cp310-cp310-manylinux_2_17_x86_64.manylinux2014_x86_64.whl (24.7 MB)\n",
            "\u001b[2K   \u001b[90m━━━━━━━━━━━━━━━━━━━━━━━━━━━━━━━━━━━━━━━━\u001b[0m \u001b[32m24.7/24.7 MB\u001b[0m \u001b[31m18.4 MB/s\u001b[0m eta \u001b[36m0:00:00\u001b[0m00:01\u001b[0m00:01\u001b[0m\n",
            "\u001b[?25hDownloading cloudpickle-2.2.1-py3-none-any.whl (25 kB)\n",
            "Downloading numpy-1.26.4-cp310-cp310-manylinux_2_17_x86_64.manylinux2014_x86_64.whl (18.2 MB)\n",
            "\u001b[2K   \u001b[90m━━━━━━━━━━━━━━━━━━━━━━━━━━━━━━━━━━━━━━━━\u001b[0m \u001b[32m18.2/18.2 MB\u001b[0m \u001b[31m9.1 MB/s\u001b[0m eta \u001b[36m0:00:00\u001b[0m:00:01\u001b[0m00:01\u001b[0m\n",
            "\u001b[?25hDownloading pandas-2.2.1-cp310-cp310-manylinux_2_17_x86_64.manylinux2014_x86_64.whl (13.0 MB)\n",
            "\u001b[2K   \u001b[90m━━━━━━━━━━━━━━━━━━━━━━━━━━━━━━━━━━━━━━━━\u001b[0m \u001b[32m13.0/13.0 MB\u001b[0m \u001b[31m27.1 MB/s\u001b[0m eta \u001b[36m0:00:00\u001b[0m00:01\u001b[0m00:01\u001b[0m\n",
            "\u001b[?25hDownloading pyarrow-15.0.2-cp310-cp310-manylinux_2_28_x86_64.whl (38.3 MB)\n",
            "\u001b[2K   \u001b[90m━━━━━━━━━━━━━━━━━━━━━━━━━━━━━━━━━━━━━━━━\u001b[0m \u001b[32m38.3/38.3 MB\u001b[0m \u001b[31m15.6 MB/s\u001b[0m eta \u001b[36m0:00:00\u001b[0m00:01\u001b[0m00:01\u001b[0m\n",
            "\u001b[?25hDownloading pytz-2024.1-py2.py3-none-any.whl (505 kB)\n",
            "\u001b[2K   \u001b[90m━━━━━━━━━━━━━━━━━━━━━━━━━━━━━━━━━━━━━━━━\u001b[0m \u001b[32m505.5/505.5 kB\u001b[0m \u001b[31m5.1 MB/s\u001b[0m eta \u001b[36m0:00:00\u001b[0m:00:01\u001b[0m\n",
            "\u001b[?25hDownloading tzdata-2024.1-py2.py3-none-any.whl (345 kB)\n",
            "\u001b[2K   \u001b[90m━━━━━━━━━━━━━━━━━━━━━━━━━━━━━━━━━━━━━━━━\u001b[0m \u001b[32m345.4/345.4 kB\u001b[0m \u001b[31m7.6 MB/s\u001b[0m eta \u001b[36m0:00:00\u001b[0m:00:01\u001b[0m\n",
            "\u001b[?25hInstalling collected packages: pytz, azureml-dataprep-rslex, azureml-dataprep-native, tzdata, numpy, cloudpickle, pyarrow, pandas, azureml-dataprep, mltable\n",
            "Successfully installed azureml-dataprep-5.1.6 azureml-dataprep-native-41.0.0 azureml-dataprep-rslex-2.22.2 cloudpickle-2.2.1 mltable-1.6.1 numpy-1.26.4 pandas-2.2.1 pyarrow-15.0.2 pytz-2024.1 tzdata-2024.1\n",
            "Note: you may need to restart the kernel to use updated packages.\n",
            "Collecting azureml-fsspec\n",
            "  Downloading azureml_fsspec-1.3.1-py3-none-any.whl.metadata (3.4 kB)\n",
            "Requirement already satisfied: azureml-dataprep<5.2.0a,>=5.1.0a in /anaconda/envs/fabric/lib/python3.10/site-packages (from azureml-fsspec) (5.1.6)\n",
            "Collecting fsspec<=2023.10.0,>=2021.6.1 (from azureml-fsspec)\n",
            "  Downloading fsspec-2023.10.0-py3-none-any.whl.metadata (6.8 kB)\n",
            "Requirement already satisfied: pytz in /anaconda/envs/fabric/lib/python3.10/site-packages (from azureml-fsspec) (2024.1)\n",
            "Requirement already satisfied: azureml-dataprep-native<42.0.0,>=41.0.0 in /anaconda/envs/fabric/lib/python3.10/site-packages (from azureml-dataprep<5.2.0a,>=5.1.0a->azureml-fsspec) (41.0.0)\n",
            "Requirement already satisfied: azureml-dataprep-rslex~=2.22.2dev0 in /anaconda/envs/fabric/lib/python3.10/site-packages (from azureml-dataprep<5.2.0a,>=5.1.0a->azureml-fsspec) (2.22.2)\n",
            "Requirement already satisfied: cloudpickle<3.0.0,>=1.1.0 in /anaconda/envs/fabric/lib/python3.10/site-packages (from azureml-dataprep<5.2.0a,>=5.1.0a->azureml-fsspec) (2.2.1)\n",
            "Requirement already satisfied: azure-identity>=1.7.0 in /anaconda/envs/fabric/lib/python3.10/site-packages (from azureml-dataprep<5.2.0a,>=5.1.0a->azureml-fsspec) (1.15.0)\n",
            "Requirement already satisfied: jsonschema in /anaconda/envs/fabric/lib/python3.10/site-packages (from azureml-dataprep<5.2.0a,>=5.1.0a->azureml-fsspec) (4.21.1)\n",
            "Requirement already satisfied: pyyaml<7.0.0,>=5.1.0 in /anaconda/envs/fabric/lib/python3.10/site-packages (from azureml-dataprep<5.2.0a,>=5.1.0a->azureml-fsspec) (6.0.1)\n",
            "Requirement already satisfied: azure-core<2.0.0,>=1.23.0 in /anaconda/envs/fabric/lib/python3.10/site-packages (from azure-identity>=1.7.0->azureml-dataprep<5.2.0a,>=5.1.0a->azureml-fsspec) (1.30.1)\n",
            "Requirement already satisfied: cryptography>=2.5 in /anaconda/envs/fabric/lib/python3.10/site-packages (from azure-identity>=1.7.0->azureml-dataprep<5.2.0a,>=5.1.0a->azureml-fsspec) (42.0.5)\n",
            "Requirement already satisfied: msal<2.0.0,>=1.24.0 in /anaconda/envs/fabric/lib/python3.10/site-packages (from azure-identity>=1.7.0->azureml-dataprep<5.2.0a,>=5.1.0a->azureml-fsspec) (1.28.0)\n",
            "Requirement already satisfied: msal-extensions<2.0.0,>=0.3.0 in /anaconda/envs/fabric/lib/python3.10/site-packages (from azure-identity>=1.7.0->azureml-dataprep<5.2.0a,>=5.1.0a->azureml-fsspec) (1.1.0)\n",
            "Requirement already satisfied: attrs>=22.2.0 in /anaconda/envs/fabric/lib/python3.10/site-packages (from jsonschema->azureml-dataprep<5.2.0a,>=5.1.0a->azureml-fsspec) (23.2.0)\n",
            "Requirement already satisfied: jsonschema-specifications>=2023.03.6 in /anaconda/envs/fabric/lib/python3.10/site-packages (from jsonschema->azureml-dataprep<5.2.0a,>=5.1.0a->azureml-fsspec) (2023.12.1)\n",
            "Requirement already satisfied: referencing>=0.28.4 in /anaconda/envs/fabric/lib/python3.10/site-packages (from jsonschema->azureml-dataprep<5.2.0a,>=5.1.0a->azureml-fsspec) (0.34.0)\n",
            "Requirement already satisfied: rpds-py>=0.7.1 in /anaconda/envs/fabric/lib/python3.10/site-packages (from jsonschema->azureml-dataprep<5.2.0a,>=5.1.0a->azureml-fsspec) (0.18.0)\n",
            "Requirement already satisfied: requests>=2.21.0 in /anaconda/envs/fabric/lib/python3.10/site-packages (from azure-core<2.0.0,>=1.23.0->azure-identity>=1.7.0->azureml-dataprep<5.2.0a,>=5.1.0a->azureml-fsspec) (2.31.0)\n",
            "Requirement already satisfied: six>=1.11.0 in /anaconda/envs/fabric/lib/python3.10/site-packages (from azure-core<2.0.0,>=1.23.0->azure-identity>=1.7.0->azureml-dataprep<5.2.0a,>=5.1.0a->azureml-fsspec) (1.16.0)\n",
            "Requirement already satisfied: typing-extensions>=4.6.0 in /anaconda/envs/fabric/lib/python3.10/site-packages (from azure-core<2.0.0,>=1.23.0->azure-identity>=1.7.0->azureml-dataprep<5.2.0a,>=5.1.0a->azureml-fsspec) (4.10.0)\n",
            "Requirement already satisfied: cffi>=1.12 in /anaconda/envs/fabric/lib/python3.10/site-packages (from cryptography>=2.5->azure-identity>=1.7.0->azureml-dataprep<5.2.0a,>=5.1.0a->azureml-fsspec) (1.16.0)\n",
            "Requirement already satisfied: PyJWT<3,>=1.0.0 in /anaconda/envs/fabric/lib/python3.10/site-packages (from PyJWT[crypto]<3,>=1.0.0->msal<2.0.0,>=1.24.0->azure-identity>=1.7.0->azureml-dataprep<5.2.0a,>=5.1.0a->azureml-fsspec) (2.8.0)\n",
            "Requirement already satisfied: packaging in /anaconda/envs/fabric/lib/python3.10/site-packages (from msal-extensions<2.0.0,>=0.3.0->azure-identity>=1.7.0->azureml-dataprep<5.2.0a,>=5.1.0a->azureml-fsspec) (23.2)\n",
            "Requirement already satisfied: portalocker<3,>=1.0 in /anaconda/envs/fabric/lib/python3.10/site-packages (from msal-extensions<2.0.0,>=0.3.0->azure-identity>=1.7.0->azureml-dataprep<5.2.0a,>=5.1.0a->azureml-fsspec) (2.8.2)\n",
            "Requirement already satisfied: pycparser in /anaconda/envs/fabric/lib/python3.10/site-packages (from cffi>=1.12->cryptography>=2.5->azure-identity>=1.7.0->azureml-dataprep<5.2.0a,>=5.1.0a->azureml-fsspec) (2.21)\n",
            "Requirement already satisfied: charset-normalizer<4,>=2 in /anaconda/envs/fabric/lib/python3.10/site-packages (from requests>=2.21.0->azure-core<2.0.0,>=1.23.0->azure-identity>=1.7.0->azureml-dataprep<5.2.0a,>=5.1.0a->azureml-fsspec) (3.3.2)\n",
            "Requirement already satisfied: idna<4,>=2.5 in /anaconda/envs/fabric/lib/python3.10/site-packages (from requests>=2.21.0->azure-core<2.0.0,>=1.23.0->azure-identity>=1.7.0->azureml-dataprep<5.2.0a,>=5.1.0a->azureml-fsspec) (3.6)\n",
            "Requirement already satisfied: urllib3<3,>=1.21.1 in /anaconda/envs/fabric/lib/python3.10/site-packages (from requests>=2.21.0->azure-core<2.0.0,>=1.23.0->azure-identity>=1.7.0->azureml-dataprep<5.2.0a,>=5.1.0a->azureml-fsspec) (2.2.1)\n",
            "Requirement already satisfied: certifi>=2017.4.17 in /anaconda/envs/fabric/lib/python3.10/site-packages (from requests>=2.21.0->azure-core<2.0.0,>=1.23.0->azure-identity>=1.7.0->azureml-dataprep<5.2.0a,>=5.1.0a->azureml-fsspec) (2024.2.2)\n",
            "Downloading azureml_fsspec-1.3.1-py3-none-any.whl (16 kB)\n",
            "Downloading fsspec-2023.10.0-py3-none-any.whl (166 kB)\n",
            "\u001b[2K   \u001b[90m━━━━━━━━━━━━━━━━━━━━━━━━━━━━━━━━━━━━━━━\u001b[0m \u001b[32m166.4/166.4 kB\u001b[0m \u001b[31m940.9 kB/s\u001b[0m eta \u001b[36m0:00:00\u001b[0m0:01\u001b[0m\n",
            "\u001b[?25hInstalling collected packages: fsspec, azureml-fsspec\n",
            "Successfully installed azureml-fsspec-1.3.1 fsspec-2023.10.0\n",
            "Note: you may need to restart the kernel to use updated packages.\n"
          ]
        }
      ],
      "source": [
        "%pip install azure-ai-ml -U \n",
        "%pip install azure-identity\n",
        "%pip install mltable azureml-dataprep[pandas] -U \n",
        "%pip install azureml-fsspec -U"
      ]
    },
    {
      "cell_type": "code",
      "execution_count": 1,
      "metadata": {
        "gather": {
          "logged": 1711121307502
        }
      },
      "outputs": [],
      "source": [
        "from azure.ai.ml import MLClient\n",
        "from azure.identity import DefaultAzureCredential"
      ]
    },
    {
      "cell_type": "code",
      "execution_count": 2,
      "metadata": {
        "gather": {
          "logged": 1711121307661
        }
      },
      "outputs": [],
      "source": [
        "subscription_id = \"f1ea6ed8-82f3-416d-881b-8b376218bc85\" \n",
        "resource_group = \"rg_aml\" \n",
        "workspace = \"aml-default\""
      ]
    },
    {
      "cell_type": "code",
      "execution_count": 3,
      "metadata": {
        "gather": {
          "logged": 1711121307950
        }
      },
      "outputs": [],
      "source": [
        "ml_client = MLClient(\n",
        "    DefaultAzureCredential(), subscription_id, resource_group, workspace\n",
        ")"
      ]
    },
    {
      "cell_type": "code",
      "execution_count": 4,
      "metadata": {
        "gather": {
          "logged": 1711121364883
        }
      },
      "outputs": [],
      "source": [
        "from azure.ai.ml.entities import OneLakeDatastore, OneLakeArtifact"
      ]
    },
    {
      "cell_type": "code",
      "execution_count": 21,
      "metadata": {},
      "outputs": [
        {
          "name": "stderr",
          "output_type": "stream",
          "text": [
            "Class OneLakeArtifact: This is an experimental class, and may change at any time. Please see https://aka.ms/azuremlexperimental for more information.\n",
            "Class OneLakeDatastore: This is an experimental class, and may change at any time. Please see https://aka.ms/azuremlexperimental for more information.\n"
          ]
        }
      ],
      "source": [
        "artifact = OneLakeArtifact(\n",
        "    name=\"amlsilver.Lakehouse\",\n",
        "    type=\"lake_house\"\n",
        ")\n",
        "#abfss://amldemo@onelake.dfs.fabric.microsoft.com/amlsilver.Lakehouse/Files/data-aml/safedriverdata_delta\n",
        "store = OneLakeDatastore(\n",
        "    name=\"onelake_lh_for_azureml\",\n",
        "    description=\"Credential-less OneLake datastore.\",\n",
        "    endpoint=\"onelake.dfs.fabric.microsoft.com\",\n",
        "    artifact=artifact,\n",
        "    one_lake_workspace_name=\"amldemo\",\n",
        ")"
      ]
    },
    {
      "cell_type": "code",
      "execution_count": 20,
      "metadata": {},
      "outputs": [
        {
          "data": {
            "text/plain": [
              "OneLakeDatastore({'type': <DatastoreType.ONE_LAKE: 'OneLake'>, 'name': 'onelake_allstate', 'description': 'Credential-less OneLake datastore.', 'tags': {}, 'properties': {}, 'print_as_yaml': False, 'id': '/subscriptions/f1ea6ed8-82f3-416d-881b-8b376218bc85/resourceGroups/rg_aml/providers/Microsoft.MachineLearningServices/workspaces/aml-default/datastores/onelake_allstate', 'Resource__source_path': '', 'base_path': '/mnt/batch/tasks/shared/LS_root/mounts/clusters/ci0322a2m/code/Users/alex/fabric', 'creation_context': None, 'serialize': <msrest.serialization.Serializer object at 0x7f2db48098d0>, 'credentials': <azure.ai.ml.entities._credentials.NoneCredentialConfiguration object at 0x7f2db4808fd0>, 'artifact': {'name': '5ec041f5-7efb-4431-94a5-558d83966194', 'type': 'lake_house'}, 'one_lake_workspace_name': 'amldemo', 'endpoint': 'onelake.dfs.fabric.microsoft.com'})"
            ]
          },
          "execution_count": 20,
          "metadata": {},
          "output_type": "execute_result"
        }
      ],
      "source": [
        "ml_client.create_or_update(store)"
      ]
    },
    {
      "cell_type": "markdown",
      "metadata": {},
      "source": [
        "<!-- subscription_id = \"f1ea6ed8-82f3-416d-881b-8b376218bc85\" \n",
        "resource_group = \"rg_aml\" \n",
        "workspace = \"aml-default\" -->"
      ]
    },
    {
      "cell_type": "code",
      "execution_count": 5,
      "metadata": {},
      "outputs": [],
      "source": [
        "from azure.ai.ml.constants import AssetTypes, InputOutputModes\n",
        "from azureml.fsspec import AzureMachineLearningFileSystem"
      ]
    },
    {
      "cell_type": "code",
      "execution_count": 6,
      "metadata": {},
      "outputs": [],
      "source": [
        "uri = 'azureml://subscriptions/f1ea6ed8-82f3-416d-881b-8b376218bc85/resourcegroups/rg_aml/workspaces/aml-default/datastores/onelake_lh_for_azureml'\n",
        "\n",
        "# create the filesystem\n",
        "fs = AzureMachineLearningFileSystem(uri)"
      ]
    },
    {
      "cell_type": "code",
      "execution_count": 10,
      "metadata": {},
      "outputs": [
        {
          "data": {
            "text/plain": [
              "['Files/data-aml/diabetes/diabetes.csv']"
            ]
          },
          "execution_count": 10,
          "metadata": {},
          "output_type": "execute_result"
        }
      ],
      "source": [
        "fs.ls('Files/data-aml/diabetes')"
      ]
    },
    {
      "cell_type": "code",
      "execution_count": 11,
      "metadata": {},
      "outputs": [
        {
          "name": "stdout",
          "output_type": "stream",
          "text": [
            "[b'age,sex,bmi,bp,s1,s2,s3,s4,s5,s6,target\\n', b'0.0380759064334241,0.0506801187398187,0.0616962065186885,0.0218723549949558,-0.0442234984244464,-0.0348207628376986,-0.0434008456520269,-0.00259226199818282,0.0199084208763183,-0.0176461251598052,151.0\\n', b'-0.00188201652779104,-0.044641636506989,-0.0514740612388061,-0.0263278347173518,-0.00844872411121698,-0.019163339748222,0.0744115640787594,-0.0394933828740919,-0.0683297436244215,-0.09220404962683,75.0\\n', b'0.0852989062966783,0.0506801187398187,0.0444512133365941,-0.00567061055493425,-0.0455994512826475,-0.0341944659141195,-0.0323559322397657,-0.00259226199818282,0.00286377051894013,-0.0259303389894746,141.0\\n', b'-0.0890629393522603,-0.044641636506989,-0.0115950145052127,-0.0366564467985606,0.0121905687618,0.0249905933641021,-0.0360375700438527,0.0343088588777263,0.0226920225667445,-0.0093619113301358,206.0\\n']\n"
          ]
        }
      ],
      "source": [
        "with fs.open('Files/data-aml/diabetes/diabetes.csv') as f:\n",
        "    data = f.readlines()\n",
        "    print(data[0:5])\n",
        "    f.close()"
      ]
    },
    {
      "cell_type": "code",
      "execution_count": 13,
      "metadata": {},
      "outputs": [],
      "source": [
        "\n",
        "from azure.ai.ml.entities import Data"
      ]
    },
    {
      "cell_type": "code",
      "execution_count": 14,
      "metadata": {},
      "outputs": [
        {
          "data": {
            "text/plain": [
              "Data({'path': 'azureml://subscriptions/f1ea6ed8-82f3-416d-881b-8b376218bc85/resourcegroups/rg_aml/workspaces/aml-default/datastores/onelake_lh_for_azureml/paths/Files/data-aml/diabetes/', 'skip_validation': False, 'mltable_schema_url': None, 'referenced_uris': None, 'type': 'uri_folder', 'is_anonymous': False, 'auto_increment_version': False, 'auto_delete_setting': None, 'name': 'csv_data_source', 'description': 'demo', 'tags': {}, 'properties': {}, 'print_as_yaml': False, 'id': '/subscriptions/f1ea6ed8-82f3-416d-881b-8b376218bc85/resourceGroups/rg_aml/providers/Microsoft.MachineLearningServices/workspaces/aml-default/data/csv_data_source/versions/1.0.0', 'Resource__source_path': '', 'base_path': '/mnt/batch/tasks/shared/LS_root/mounts/clusters/ci0322a2m/code/Users/alex/fabric', 'creation_context': <azure.ai.ml.entities._system_data.SystemData object at 0x7fe9d388ad70>, 'serialize': <msrest.serialization.Serializer object at 0x7fe9d3889db0>, 'version': '1.0.0', 'latest_version': None, 'datastore': None})"
            ]
          },
          "execution_count": 14,
          "metadata": {},
          "output_type": "execute_result"
        }
      ],
      "source": [
        "csv_path = 'azureml://datastores/onelake_lh_for_azureml/paths/Files/data-aml/diabetes'\n",
        "my_csv_data = Data(\n",
        "        path=csv_path,\n",
        "        type=AssetTypes.URI_FOLDER,\n",
        "        description=\"demo\",\n",
        "        name=\"csv_data_source\",\n",
        "        version=\"1.0.0\"\n",
        ")\n",
        "\n",
        "ml_client.data.create_or_update(my_csv_data)"
      ]
    },
    {
      "cell_type": "code",
      "execution_count": 15,
      "metadata": {},
      "outputs": [],
      "source": [
        "import pandas as pd"
      ]
    },
    {
      "cell_type": "code",
      "execution_count": 16,
      "metadata": {},
      "outputs": [],
      "source": [
        "csv_data = ml_client.data.get(\"csv_data_source\", version=\"1.0.0\")\n"
      ]
    },
    {
      "cell_type": "code",
      "execution_count": 17,
      "metadata": {},
      "outputs": [],
      "source": [
        "import mltable"
      ]
    },
    {
      "cell_type": "code",
      "execution_count": 18,
      "metadata": {},
      "outputs": [],
      "source": [
        "\n",
        "path = {\n",
        "  'folder': csv_data.path\n",
        "}\n",
        "\n",
        "tbl = mltable.from_delimited_files(paths=[path])"
      ]
    },
    {
      "cell_type": "code",
      "execution_count": 19,
      "metadata": {},
      "outputs": [],
      "source": [
        "df = pd.read_csv( csv_data.path + '/diabetes.csv')"
      ]
    },
    {
      "cell_type": "code",
      "execution_count": 20,
      "metadata": {},
      "outputs": [
        {
          "data": {
            "text/html": [
              "<div>\n",
              "<style scoped>\n",
              "    .dataframe tbody tr th:only-of-type {\n",
              "        vertical-align: middle;\n",
              "    }\n",
              "\n",
              "    .dataframe tbody tr th {\n",
              "        vertical-align: top;\n",
              "    }\n",
              "\n",
              "    .dataframe thead th {\n",
              "        text-align: right;\n",
              "    }\n",
              "</style>\n",
              "<table border=\"1\" class=\"dataframe\">\n",
              "  <thead>\n",
              "    <tr style=\"text-align: right;\">\n",
              "      <th></th>\n",
              "      <th>age</th>\n",
              "      <th>sex</th>\n",
              "      <th>bmi</th>\n",
              "      <th>bp</th>\n",
              "      <th>s1</th>\n",
              "      <th>s2</th>\n",
              "      <th>s3</th>\n",
              "      <th>s4</th>\n",
              "      <th>s5</th>\n",
              "      <th>s6</th>\n",
              "      <th>target</th>\n",
              "    </tr>\n",
              "  </thead>\n",
              "  <tbody>\n",
              "    <tr>\n",
              "      <th>0</th>\n",
              "      <td>0.038076</td>\n",
              "      <td>0.050680</td>\n",
              "      <td>0.061696</td>\n",
              "      <td>0.021872</td>\n",
              "      <td>-0.044223</td>\n",
              "      <td>-0.034821</td>\n",
              "      <td>-0.043401</td>\n",
              "      <td>-0.002592</td>\n",
              "      <td>0.019908</td>\n",
              "      <td>-0.017646</td>\n",
              "      <td>151.0</td>\n",
              "    </tr>\n",
              "    <tr>\n",
              "      <th>1</th>\n",
              "      <td>-0.001882</td>\n",
              "      <td>-0.044642</td>\n",
              "      <td>-0.051474</td>\n",
              "      <td>-0.026328</td>\n",
              "      <td>-0.008449</td>\n",
              "      <td>-0.019163</td>\n",
              "      <td>0.074412</td>\n",
              "      <td>-0.039493</td>\n",
              "      <td>-0.068330</td>\n",
              "      <td>-0.092204</td>\n",
              "      <td>75.0</td>\n",
              "    </tr>\n",
              "    <tr>\n",
              "      <th>2</th>\n",
              "      <td>0.085299</td>\n",
              "      <td>0.050680</td>\n",
              "      <td>0.044451</td>\n",
              "      <td>-0.005671</td>\n",
              "      <td>-0.045599</td>\n",
              "      <td>-0.034194</td>\n",
              "      <td>-0.032356</td>\n",
              "      <td>-0.002592</td>\n",
              "      <td>0.002864</td>\n",
              "      <td>-0.025930</td>\n",
              "      <td>141.0</td>\n",
              "    </tr>\n",
              "    <tr>\n",
              "      <th>3</th>\n",
              "      <td>-0.089063</td>\n",
              "      <td>-0.044642</td>\n",
              "      <td>-0.011595</td>\n",
              "      <td>-0.036656</td>\n",
              "      <td>0.012191</td>\n",
              "      <td>0.024991</td>\n",
              "      <td>-0.036038</td>\n",
              "      <td>0.034309</td>\n",
              "      <td>0.022692</td>\n",
              "      <td>-0.009362</td>\n",
              "      <td>206.0</td>\n",
              "    </tr>\n",
              "    <tr>\n",
              "      <th>4</th>\n",
              "      <td>0.005383</td>\n",
              "      <td>-0.044642</td>\n",
              "      <td>-0.036385</td>\n",
              "      <td>0.021872</td>\n",
              "      <td>0.003935</td>\n",
              "      <td>0.015596</td>\n",
              "      <td>0.008142</td>\n",
              "      <td>-0.002592</td>\n",
              "      <td>-0.031991</td>\n",
              "      <td>-0.046641</td>\n",
              "      <td>135.0</td>\n",
              "    </tr>\n",
              "    <tr>\n",
              "      <th>...</th>\n",
              "      <td>...</td>\n",
              "      <td>...</td>\n",
              "      <td>...</td>\n",
              "      <td>...</td>\n",
              "      <td>...</td>\n",
              "      <td>...</td>\n",
              "      <td>...</td>\n",
              "      <td>...</td>\n",
              "      <td>...</td>\n",
              "      <td>...</td>\n",
              "      <td>...</td>\n",
              "    </tr>\n",
              "    <tr>\n",
              "      <th>437</th>\n",
              "      <td>0.041708</td>\n",
              "      <td>0.050680</td>\n",
              "      <td>0.019662</td>\n",
              "      <td>0.059744</td>\n",
              "      <td>-0.005697</td>\n",
              "      <td>-0.002566</td>\n",
              "      <td>-0.028674</td>\n",
              "      <td>-0.002592</td>\n",
              "      <td>0.031193</td>\n",
              "      <td>0.007207</td>\n",
              "      <td>178.0</td>\n",
              "    </tr>\n",
              "    <tr>\n",
              "      <th>438</th>\n",
              "      <td>-0.005515</td>\n",
              "      <td>0.050680</td>\n",
              "      <td>-0.015906</td>\n",
              "      <td>-0.067642</td>\n",
              "      <td>0.049341</td>\n",
              "      <td>0.079165</td>\n",
              "      <td>-0.028674</td>\n",
              "      <td>0.034309</td>\n",
              "      <td>-0.018118</td>\n",
              "      <td>0.044485</td>\n",
              "      <td>104.0</td>\n",
              "    </tr>\n",
              "    <tr>\n",
              "      <th>439</th>\n",
              "      <td>0.041708</td>\n",
              "      <td>0.050680</td>\n",
              "      <td>-0.015906</td>\n",
              "      <td>0.017282</td>\n",
              "      <td>-0.037344</td>\n",
              "      <td>-0.013840</td>\n",
              "      <td>-0.024993</td>\n",
              "      <td>-0.011080</td>\n",
              "      <td>-0.046879</td>\n",
              "      <td>0.015491</td>\n",
              "      <td>132.0</td>\n",
              "    </tr>\n",
              "    <tr>\n",
              "      <th>440</th>\n",
              "      <td>-0.045472</td>\n",
              "      <td>-0.044642</td>\n",
              "      <td>0.039062</td>\n",
              "      <td>0.001215</td>\n",
              "      <td>0.016318</td>\n",
              "      <td>0.015283</td>\n",
              "      <td>-0.028674</td>\n",
              "      <td>0.026560</td>\n",
              "      <td>0.044528</td>\n",
              "      <td>-0.025930</td>\n",
              "      <td>220.0</td>\n",
              "    </tr>\n",
              "    <tr>\n",
              "      <th>441</th>\n",
              "      <td>-0.045472</td>\n",
              "      <td>-0.044642</td>\n",
              "      <td>-0.073030</td>\n",
              "      <td>-0.081414</td>\n",
              "      <td>0.083740</td>\n",
              "      <td>0.027809</td>\n",
              "      <td>0.173816</td>\n",
              "      <td>-0.039493</td>\n",
              "      <td>-0.004220</td>\n",
              "      <td>0.003064</td>\n",
              "      <td>57.0</td>\n",
              "    </tr>\n",
              "  </tbody>\n",
              "</table>\n",
              "<p>442 rows × 11 columns</p>\n",
              "</div>"
            ],
            "text/plain": [
              "          age       sex       bmi        bp        s1        s2        s3  \\\n",
              "0    0.038076  0.050680  0.061696  0.021872 -0.044223 -0.034821 -0.043401   \n",
              "1   -0.001882 -0.044642 -0.051474 -0.026328 -0.008449 -0.019163  0.074412   \n",
              "2    0.085299  0.050680  0.044451 -0.005671 -0.045599 -0.034194 -0.032356   \n",
              "3   -0.089063 -0.044642 -0.011595 -0.036656  0.012191  0.024991 -0.036038   \n",
              "4    0.005383 -0.044642 -0.036385  0.021872  0.003935  0.015596  0.008142   \n",
              "..        ...       ...       ...       ...       ...       ...       ...   \n",
              "437  0.041708  0.050680  0.019662  0.059744 -0.005697 -0.002566 -0.028674   \n",
              "438 -0.005515  0.050680 -0.015906 -0.067642  0.049341  0.079165 -0.028674   \n",
              "439  0.041708  0.050680 -0.015906  0.017282 -0.037344 -0.013840 -0.024993   \n",
              "440 -0.045472 -0.044642  0.039062  0.001215  0.016318  0.015283 -0.028674   \n",
              "441 -0.045472 -0.044642 -0.073030 -0.081414  0.083740  0.027809  0.173816   \n",
              "\n",
              "           s4        s5        s6  target  \n",
              "0   -0.002592  0.019908 -0.017646   151.0  \n",
              "1   -0.039493 -0.068330 -0.092204    75.0  \n",
              "2   -0.002592  0.002864 -0.025930   141.0  \n",
              "3    0.034309  0.022692 -0.009362   206.0  \n",
              "4   -0.002592 -0.031991 -0.046641   135.0  \n",
              "..        ...       ...       ...     ...  \n",
              "437 -0.002592  0.031193  0.007207   178.0  \n",
              "438  0.034309 -0.018118  0.044485   104.0  \n",
              "439 -0.011080 -0.046879  0.015491   132.0  \n",
              "440  0.026560  0.044528 -0.025930   220.0  \n",
              "441 -0.039493 -0.004220  0.003064    57.0  \n",
              "\n",
              "[442 rows x 11 columns]"
            ]
          },
          "execution_count": 20,
          "metadata": {},
          "output_type": "execute_result"
        }
      ],
      "source": [
        "df"
      ]
    },
    {
      "cell_type": "code",
      "execution_count": null,
      "metadata": {},
      "outputs": [],
      "source": []
    }
  ],
  "metadata": {
    "kernel_info": {
      "name": "python310-sdkv2"
    },
    "kernelspec": {
      "display_name": "fabric",
      "language": "python",
      "name": "fabric"
    },
    "language_info": {
      "codemirror_mode": {
        "name": "ipython",
        "version": 3
      },
      "file_extension": ".py",
      "mimetype": "text/x-python",
      "name": "python",
      "nbconvert_exporter": "python",
      "pygments_lexer": "ipython3",
      "version": "3.10.14"
    },
    "microsoft": {
      "ms_spell_check": {
        "ms_spell_check_language": "en"
      }
    },
    "nteract": {
      "version": "nteract-front-end@1.0.0"
    }
  },
  "nbformat": 4,
  "nbformat_minor": 2
}
